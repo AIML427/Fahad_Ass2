{
 "cells": [
  {
   "cell_type": "markdown",
   "id": "10e68749",
   "metadata": {},
   "source": [
    "#### Data Preparation: "
   ]
  },
  {
   "cell_type": "markdown",
   "id": "8bed8ec3",
   "metadata": {},
   "source": [
    "In preparation step, we load two files of datases. then, concatenate the training and validation set into one dataset for subsequent analysis"
   ]
  },
  {
   "cell_type": "code",
   "execution_count": null,
   "id": "85226b0f",
   "metadata": {},
   "outputs": [],
   "source": [
    "import pandas as pd\n",
    "import numpy as np\n",
    "from sklearn.preprocessing import StandardScaler\n",
    "from sklearn.decomposition import PCA\n",
    "\n",
    "# Load the Arcene datasets\n",
    "# Replace 'path/to/' with the actual path to your data files\n",
    "X_train = pd.read_csv('arcene_train.data', header=None, sep=' ')\n",
    "X_valid = pd.read_csv('arcene_valid.data', header=None, sep=' ')\n",
    "\n",
    "# Drop the last column, which is all NaN\n",
    "X_train = X_train.iloc[:, :-1]\n",
    "X_valid = X_valid.iloc[:, :-1]\n",
    "\n",
    "# Combine training and validation data\n",
    "X = pd.concat([X_train, X_valid], axis=0)\n",
    "\n",
    "# Standardize the data\n",
    "scaler = StandardScaler()\n",
    "X_scaled = scaler.fit_transform(X)\n",
    "\n",
    "print(\"Data loaded and preprocessed.\")\n",
    "#print(\"Scaled data shape:\", X_scaled.shape)"
   ]
  },
  {
   "cell_type": "markdown",
   "id": "4bab47bb",
   "metadata": {},
   "source": [
    "#### PCA"
   ]
  },
  {
   "cell_type": "code",
   "execution_count": null,
   "id": "58e6b545",
   "metadata": {},
   "outputs": [],
   "source": [
    "# Apply PCA\n",
    "pca = PCA()\n",
    "X_pca = pca.fit_transform(X_scaled)\n",
    "\n",
    "# Explained variance\n",
    "explained_variance_ratio = pca.explained_variance_ratio_\n",
    "cumulative_variance = np.cumsum(explained_variance_ratio)\n",
    "\n",
    "# Plot 1: 2D scatter plot of first two principal components\n",
    "plt.figure(figsize=(8, 6))\n",
    "sns.scatterplot(x=X_pca[:, 0], y=X_pca[:, 1], hue=y, palette='viridis', style=y)\n",
    "plt.title('PCA: First Two Principal Components of Arcene Dataset')\n",
    "plt.xlabel(f'PC1 ({explained_variance_ratio[0]*100:.2f}% variance)')\n",
    "plt.ylabel(f'PC2 ({explained_variance_ratio[1]*100:.2f}% variance)')\n",
    "plt.legend(title='Class', loc='best')\n",
    "plt.savefig('pca_plot.png')\n",
    "plt.close()\n",
    "\n",
    "# Plot 2: Scree plot for explained variance\n",
    "plt.figure(figsize=(8, 6))\n",
    "plt.plot(range(1, len(explained_variance_ratio) + 1), explained_variance_ratio, 'bo-', label='Explained Variance Ratio')\n",
    "plt.plot(range(1, len(cumulative_variance) + 1), cumulative_variance, 'ro-', label='Cumulative Variance')\n",
    "plt.title('Scree Plot for PCA on Arcene Dataset')\n",
    "plt.xlabel('Principal Component')\n",
    "plt.ylabel('Variance Ratio')\n",
    "plt.legend()\n",
    "plt.grid(True)\n",
    "plt.savefig('scree_plot.png')\n",
    "plt.close()\n",
    "\n",
    "# Print explained variance for first two components\n",
    "print(f\"Explained variance by PC1: {explained_variance_ratio[0]*100:.2f}%\")\n",
    "print(f\"Explained variance by PC2: {explained_variance_ratio[1]*100:.2f}%\")\n",
    "print(f\"Total variance by first two PCs: {cumulative_variance[1]*100:.2f}%\")"
   ]
  }
 ],
 "metadata": {
  "kernelspec": {
   "display_name": "Python 3",
   "language": "python",
   "name": "python3"
  },
  "language_info": {
   "codemirror_mode": {
    "name": "ipython",
    "version": 3
   },
   "file_extension": ".py",
   "mimetype": "text/x-python",
   "name": "python",
   "nbconvert_exporter": "python",
   "pygments_lexer": "ipython3",
   "version": "3.11.2"
  }
 },
 "nbformat": 4,
 "nbformat_minor": 5
}
